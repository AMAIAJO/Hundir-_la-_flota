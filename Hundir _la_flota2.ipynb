{
 "cells": [
  {
   "cell_type": "code",
   "execution_count": 353,
   "metadata": {},
   "outputs": [],
   "source": [
    "import random"
   ]
  },
  {
   "cell_type": "code",
   "execution_count": 354,
   "metadata": {},
   "outputs": [],
   "source": [
    "import time"
   ]
  },
  {
   "cell_type": "code",
   "execution_count": 355,
   "metadata": {},
   "outputs": [],
   "source": [
    "import copy"
   ]
  },
  {
   "cell_type": "code",
   "execution_count": 356,
   "metadata": {},
   "outputs": [],
   "source": [
    "flota = {\"Portaviones\":4, \"Submarino1\":3, \"Submarino2\":3, \"Fragata1\":2, \"Fragata2\":2, \"Fragata3\":2, \"Patrullero1\":1, \"Patrullero2\":1, \"Patrullero3\":1, \"Patrullero4\":1}"
   ]
  },
  {
   "cell_type": "code",
   "execution_count": 357,
   "metadata": {},
   "outputs": [
    {
     "data": {
      "text/plain": [
       "{'Portaviones': 4,\n",
       " 'Submarino1': 3,\n",
       " 'Submarino2': 3,\n",
       " 'Fragata1': 2,\n",
       " 'Fragata2': 2,\n",
       " 'Fragata3': 2,\n",
       " 'Patrullero1': 1,\n",
       " 'Patrullero2': 1,\n",
       " 'Patrullero3': 1,\n",
       " 'Patrullero4': 1}"
      ]
     },
     "execution_count": 357,
     "metadata": {},
     "output_type": "execute_result"
    }
   ],
   "source": [
    "flota"
   ]
  },
  {
   "cell_type": "code",
   "execution_count": 358,
   "metadata": {},
   "outputs": [],
   "source": [
    "# Dimensiones del tablero\n",
    "tamaño_tablero = 10\n"
   ]
  },
  {
   "cell_type": "code",
   "execution_count": 359,
   "metadata": {},
   "outputs": [],
   "source": [
    "# Total de casillas correspondientes a barcos\n",
    "total_barcos = 20"
   ]
  },
  {
   "cell_type": "code",
   "execution_count": 360,
   "metadata": {},
   "outputs": [
    {
     "data": {
      "text/plain": [
       "['.', '.', '.', '.', '.', '.', '.', '.', '.', '.']"
      ]
     },
     "execution_count": 360,
     "metadata": {},
     "output_type": "execute_result"
    }
   ],
   "source": [
    "# Crear un tablero vacío\n",
    "\n",
    "linea = []\n",
    "\n",
    "for i in range(tamaño_tablero):\n",
    "    linea.append(\".\")\n",
    "linea\n"
   ]
  },
  {
   "cell_type": "code",
   "execution_count": 361,
   "metadata": {},
   "outputs": [
    {
     "data": {
      "text/plain": [
       "[['.', '.', '.', '.', '.', '.', '.', '.', '.', '.'],\n",
       " ['.', '.', '.', '.', '.', '.', '.', '.', '.', '.'],\n",
       " ['.', '.', '.', '.', '.', '.', '.', '.', '.', '.'],\n",
       " ['.', '.', '.', '.', '.', '.', '.', '.', '.', '.'],\n",
       " ['.', '.', '.', '.', '.', '.', '.', '.', '.', '.'],\n",
       " ['.', '.', '.', '.', '.', '.', '.', '.', '.', '.'],\n",
       " ['.', '.', '.', '.', '.', '.', '.', '.', '.', '.'],\n",
       " ['.', '.', '.', '.', '.', '.', '.', '.', '.', '.'],\n",
       " ['.', '.', '.', '.', '.', '.', '.', '.', '.', '.'],\n",
       " ['.', '.', '.', '.', '.', '.', '.', '.', '.', '.']]"
      ]
     },
     "execution_count": 361,
     "metadata": {},
     "output_type": "execute_result"
    }
   ],
   "source": [
    "tablero = []\n",
    "\n",
    "for i in range(tamaño_tablero):\n",
    "    tablero.append(linea.copy())\n",
    "tablero"
   ]
  },
  {
   "cell_type": "code",
   "execution_count": 362,
   "metadata": {},
   "outputs": [],
   "source": [
    "# Función crear un tablero vacío\n",
    "\n",
    "def crear_tablero():   \n",
    "    linea = []\n",
    "    tablero = []\n",
    "\n",
    "    for i in range(tamaño_tablero):\n",
    "        linea.append(\".\")\n",
    "    for i in range(tamaño_tablero):\n",
    "        tablero.append(linea.copy())\n",
    "    return tablero\n",
    "\n"
   ]
  },
  {
   "cell_type": "code",
   "execution_count": 363,
   "metadata": {},
   "outputs": [],
   "source": [
    "tablero_ordenador = crear_tablero()\n",
    "tablero_jugador = crear_tablero()\n",
    "tablero_mis_disparos = crear_tablero()\n",
    "tablero_disparos_ordenador = crear_tablero()\n"
   ]
  },
  {
   "cell_type": "code",
   "execution_count": 364,
   "metadata": {},
   "outputs": [],
   "source": [
    "#Función mostrar tablero en un formato legible\n",
    "import pprint\n",
    "\n",
    "#def mostrar_tablero():\n",
    "    #for fila in tablero:\n",
    "        #print(\" \".join(fila))\n",
    "\n",
    "def mostrar_tablero(tablero):\n",
    "    pprint.pprint(tablero)"
   ]
  },
  {
   "cell_type": "code",
   "execution_count": 365,
   "metadata": {},
   "outputs": [],
   "source": [
    "# Función de disparar\n",
    "\n",
    "def disparo(fila,columna,tablero):\n",
    "    acertado = False\n",
    "    if tablero[fila][columna] == 'B':\n",
    "        acertado = True\n",
    "        tablero[fila][columna] = 'X'\n",
    "        print()\n",
    "        print('Tocado')\n",
    "        \n",
    "    else:\n",
    "        tablero[fila][columna] = '~'\n",
    "        print()\n",
    "        print('Agua')\n",
    "        \n",
    "\n",
    "    return acertado\n"
   ]
  },
  {
   "cell_type": "code",
   "execution_count": 366,
   "metadata": {},
   "outputs": [],
   "source": [
    "# Función de juega usuario\n",
    "# Turno jugador\n",
    "\n",
    "def juega_usuario(tablero_ordenador):\n",
    "\n",
    "    coordenada_fila = int(input('Introduce la primera coordenada'))\n",
    "    coordenada_columna = int(input('Introduce ahora la segunda coordenada'))\n",
    "    tablero = tablero_ordenador\n",
    "    resultado = disparo(coordenada_fila,coordenada_columna,tablero)\n",
    "\n",
    "    return resultado\n"
   ]
  },
  {
   "cell_type": "code",
   "execution_count": 367,
   "metadata": {},
   "outputs": [],
   "source": [
    "# Función de juega ordenador\n",
    "# Turno del computer\n",
    "import random\n",
    "\n",
    "def juega_computer(tablero_jugador):\n",
    "    \n",
    "    coordenada_fila = random.randint(0,9)\n",
    "    coordenada_columna = random.randint(0,9)\n",
    "    tablero = tablero_jugador\n",
    "\n",
    "    print()\n",
    "    print(\"Turno ordenador:\")\n",
    "    resultado = disparo(coordenada_fila,coordenada_columna,tablero)\n",
    "    return resultado\n"
   ]
  },
  {
   "cell_type": "code",
   "execution_count": 368,
   "metadata": {},
   "outputs": [],
   "source": [
    "# Funcion verificar posición válida\n",
    "def posicion_correcta(tablero,fila, columna,tamaño,direccion):\n",
    "\n",
    "    #Verificamos dirección arriba\n",
    "    if direccion == \"Arriba\":\n",
    "        #print(\"probando direccion arriba\")\n",
    "        if fila - tamaño < 0:\n",
    "            #print(\"parametro\", fila , tamaño, \"menor que cero\")\n",
    "            return False # El barco se sale del tablero\n",
    "         #Verificar que no haya colisiones\n",
    "        for i in range(tamaño):\n",
    "            if tablero[fila - i][columna] != \".\":\n",
    "                #print(\"encontrado barco en posición\", fila - i, columna)\n",
    "                return False # Ya hay un barco en esa posición\n",
    "               \n",
    "    # Verificamos dirección abajo\n",
    "    elif direccion == \"Abajo\":\n",
    "        if fila + tamaño > tamaño_tablero:\n",
    "            return False # El barco se sale del tablero\n",
    "        #Verificar que no haya colisiones\n",
    "        for i in range(tamaño):\n",
    "            if tablero[fila + i][columna] != \".\":\n",
    "                return False # Ya hay un barco en esa posición\n",
    "        \n",
    "    #Verificamos dirección izquierda\n",
    "    elif direccion == \"Izquierda\":\n",
    "        if columna - tamaño < 0:\n",
    "            return False # El barco se sale del tablero\n",
    "        #Verificar que no haya colisiones\n",
    "        for i in range(tamaño):\n",
    "            if tablero[fila][columna - i] != \".\":\n",
    "                return False # Ya hay un barco en esa posición\n",
    "    \n",
    "    #Verificamos dirección derecha\n",
    "    elif direccion == \"Derecha\":\n",
    "        if columna + tamaño > tamaño_tablero:\n",
    "            return False # El barco se sale del tablero\n",
    "        #Verificar que no haya colisiones\n",
    "        for i in range(tamaño):\n",
    "            if tablero[fila][columna + i] != \".\":\n",
    "                return False # Ya hay un barco en esa posición\n",
    "    #print(\"posición encontrada\")\n",
    "    return True\n",
    "\n",
    "        \n",
    "\n"
   ]
  },
  {
   "cell_type": "code",
   "execution_count": 369,
   "metadata": {},
   "outputs": [],
   "source": [
    "# Función para colocar barcos en el tablero\n",
    "def colocar_barco(tablero,fila,columna,tamaño,direccion):\n",
    "    if direccion ==\"Arriba\":\n",
    "        for i in range(tamaño):\n",
    "            tablero[fila - i][columna]=\"B\"\n",
    "    elif direccion == \"Abajo\":\n",
    "        for i in range(tamaño):\n",
    "            tablero[fila + i][columna]= \"B\"\n",
    "    elif direccion == \"Izquierda\":\n",
    "        for i in range(tamaño):\n",
    "            tablero[fila][columna - i]= \"B\"\n",
    "    elif direccion == \"Derecha\":\n",
    "        for i in range(tamaño):\n",
    "            tablero[fila][columna + i]= \"B\"\n",
    "\n",
    "\n"
   ]
  },
  {
   "cell_type": "code",
   "execution_count": 370,
   "metadata": {},
   "outputs": [
    {
     "data": {
      "text/plain": [
       "[['.', '.', '.', '.', '.', '.', '.', '.', '.', '.'],\n",
       " ['.', '.', '.', '.', '.', '.', '.', '.', '.', '.'],\n",
       " ['.', '.', '.', '.', '.', '.', '.', '.', '.', '.'],\n",
       " ['.', '.', '.', '.', '.', '.', '.', '.', '.', '.'],\n",
       " ['.', '.', '.', '.', '.', '.', '.', '.', '.', '.'],\n",
       " ['.', '.', '.', '.', '.', '.', '.', '.', '.', '.'],\n",
       " ['.', '.', '.', '.', '.', '.', '.', '.', '.', '.'],\n",
       " ['.', '.', '.', '.', '.', '.', '.', '.', '.', '.'],\n",
       " ['.', '.', '.', '.', '.', '.', '.', '.', '.', '.'],\n",
       " ['.', '.', '.', '.', '.', '.', '.', '.', '.', '.']]"
      ]
     },
     "execution_count": 370,
     "metadata": {},
     "output_type": "execute_result"
    }
   ],
   "source": [
    "tablero"
   ]
  },
  {
   "cell_type": "code",
   "execution_count": 371,
   "metadata": {},
   "outputs": [],
   "source": [
    "#posicion_correcta(tablero,6,1,2,\"Derecha\")\n",
    "#tablero"
   ]
  },
  {
   "cell_type": "code",
   "execution_count": 372,
   "metadata": {},
   "outputs": [],
   "source": [
    "#Posicionar barco de manera aleatoria en el tablero\n",
    "#Para cada uno de los barcos llamo a la función verificar posición si True -> llamo a la función colocar_barco\n",
    "import pprint\n",
    "def posicionar_barcos_aleatoriamente(tablero):\n",
    "\n",
    "    for barco,tamaño in flota.items():\n",
    "        colocado = False\n",
    "        #print(\"Intentamos colocar\", barco,\"de tamaño\", tamaño) \n",
    "        while not colocado:\n",
    "            fila = random.randint(0,9)\n",
    "            columna = random.randint(0,9)\n",
    "            direccion = random.choice([\"Arriba\", \"Abajo\",\"Izquierda\",\"Derecha\"])\n",
    "            #print(\"probando coordenadas aleatorias\",fila, columna,\"y direccion\", direccion)\n",
    "            if posicion_correcta(tablero,fila, columna,tamaño,direccion):\n",
    "                colocar_barco(tablero,fila,columna,tamaño,direccion)\n",
    "                #pprint.pprint(tablero)\n",
    "                colocado = True\n"
   ]
  },
  {
   "cell_type": "code",
   "execution_count": 373,
   "metadata": {},
   "outputs": [],
   "source": [
    "#import pprint\n",
    "#pprint.pprint(tablero_jugador)\n",
    "#posicionar_barcos_aleatoriamente(tablero_jugador)\n",
    "#pprint.pprint(tablero_jugador)"
   ]
  },
  {
   "cell_type": "code",
   "execution_count": 374,
   "metadata": {},
   "outputs": [
    {
     "name": "stdout",
     "output_type": "stream",
     "text": [
      "[['.', '.', '.', '.', '.', '.', '.', '.', '.', '.'],\n",
      " ['.', '.', '.', '.', '.', '.', '.', '.', '.', '.'],\n",
      " ['.', '.', '.', '.', '.', '.', '.', '.', '.', '.'],\n",
      " ['.', '.', '.', '.', '.', '.', '.', '.', '.', '.'],\n",
      " ['.', '.', '.', '.', '.', '.', '.', '.', '.', '.'],\n",
      " ['.', '.', '.', '.', '.', '.', '.', '.', '.', '.'],\n",
      " ['.', '.', '.', '.', '.', '.', '.', '.', '.', '.'],\n",
      " ['.', '.', '.', '.', '.', '.', '.', '.', '.', '.'],\n",
      " ['.', '.', '.', '.', '.', '.', '.', '.', '.', '.'],\n",
      " ['.', '.', '.', '.', '.', '.', '.', '.', '.', '.']]\n"
     ]
    }
   ],
   "source": [
    "import pprint\n",
    "\n",
    "pprint.pprint(tablero_jugador)\n"
   ]
  },
  {
   "cell_type": "code",
   "execution_count": 375,
   "metadata": {},
   "outputs": [],
   "source": [
    "#import pprint\n",
    "#pprint.pprint(tablero_ordenador)\n",
    "#posicionar_barcos_aleatoriamente(tablero_ordenador)\n",
    "#print(tablero_ordenador)"
   ]
  },
  {
   "cell_type": "code",
   "execution_count": 376,
   "metadata": {},
   "outputs": [
    {
     "name": "stdout",
     "output_type": "stream",
     "text": [
      "[['.', '.', '.', '.', '.', '.', '.', '.', '.', '.'],\n",
      " ['.', '.', '.', '.', '.', '.', '.', '.', '.', '.'],\n",
      " ['.', '.', '.', '.', '.', '.', '.', '.', '.', '.'],\n",
      " ['.', '.', '.', '.', '.', '.', '.', '.', '.', '.'],\n",
      " ['.', '.', '.', '.', '.', '.', '.', '.', '.', '.'],\n",
      " ['.', '.', '.', '.', '.', '.', '.', '.', '.', '.'],\n",
      " ['.', '.', '.', '.', '.', '.', '.', '.', '.', '.'],\n",
      " ['.', '.', '.', '.', '.', '.', '.', '.', '.', '.'],\n",
      " ['.', '.', '.', '.', '.', '.', '.', '.', '.', '.'],\n",
      " ['.', '.', '.', '.', '.', '.', '.', '.', '.', '.']]\n"
     ]
    }
   ],
   "source": [
    "import pprint\n",
    "\n",
    "pprint.pprint(tablero_ordenador)"
   ]
  },
  {
   "cell_type": "code",
   "execution_count": 377,
   "metadata": {},
   "outputs": [],
   "source": [
    "#Actualizar el tablero de mis disparos (tercer tablero)\n",
    "\n",
    "#def actualizar_tablero_mis_disparos(tablero_ordenador):\n",
    "    #tablero_mis_disparos = tablero_ordenador.copy()\n",
    "    #for i in tablero:\n",
    "        #for j in i:\n",
    "            #j.replace(\"B\",\".\")\n",
    "    #return tablero_mis_disparos\n",
    "\n",
    "\n",
    "\n",
    "\n"
   ]
  },
  {
   "cell_type": "code",
   "execution_count": 378,
   "metadata": {},
   "outputs": [],
   "source": [
    "# Actualizar el tablero de mis disparos (tercer tablero)\n",
    "\n",
    "def actualizar_tablero_mis_disparos(tablero_ordenador):\n",
    "    tablero_mis_disparos = copy.deepcopy(tablero_ordenador) #Crear un copia profunda del tablero del ordenador\n",
    "    for i, fila in enumerate(tablero_mis_disparos): #Iterar sobre las filas y columnas del tablero\n",
    "        for j, celda in enumerate(fila):\n",
    "            if celda == \"B\": #Reemplazar \"B\" por \".\"\n",
    "                tablero_mis_disparos[i][j] = \".\"\n",
    "             \n",
    "    return tablero_mis_disparos"
   ]
  },
  {
   "cell_type": "code",
   "execution_count": 379,
   "metadata": {},
   "outputs": [],
   "source": [
    "# Actualizar el tablero de los disparos del ordenador (cuarto tablero)\n",
    "\n",
    "def actualizar_tablero_disparos_ordenador(tablero_jugador):\n",
    "    tablero_disparos_ordenador = copy.deepcopy(tablero_jugador) #Crear un copia profunda del tablero jugador\n",
    "\n",
    "    return tablero_disparos_ordenador"
   ]
  },
  {
   "cell_type": "code",
   "execution_count": 380,
   "metadata": {},
   "outputs": [
    {
     "name": "stdout",
     "output_type": "stream",
     "text": [
      "[['.', '.', '.', '.', '.', '.', '.', '.', '.', '.'],\n",
      " ['.', '.', '.', '.', '.', '.', '.', '.', '.', '.'],\n",
      " ['.', '.', '.', '.', '.', '.', '.', '.', '.', '.'],\n",
      " ['.', '.', '.', '.', '.', '.', '.', '.', '.', '.'],\n",
      " ['.', '.', '.', '.', '.', '.', '.', '.', '.', '.'],\n",
      " ['.', '.', '.', '.', '.', '.', '.', '.', '.', '.'],\n",
      " ['.', '.', '.', '.', '.', '.', '.', '.', '.', '.'],\n",
      " ['.', '.', '.', '.', '.', '.', '.', '.', '.', '.'],\n",
      " ['.', '.', '.', '.', '.', '.', '.', '.', '.', '.'],\n",
      " ['.', '.', '.', '.', '.', '.', '.', '.', '.', '.']]\n"
     ]
    }
   ],
   "source": [
    "pprint.pprint(tablero_disparos_ordenador)"
   ]
  },
  {
   "cell_type": "code",
   "execution_count": 381,
   "metadata": {},
   "outputs": [],
   "source": [
    "# Función para contar los barcos hundidos:\n",
    "\n",
    "def contar_barcos_hundidos(tablero): #¿Cuántas casillas de barcos se han alcanzado?\n",
    "    hundidos = sum(fila.count(\"X\") for fila in tablero)\n",
    "    return hundidos "
   ]
  },
  {
   "cell_type": "code",
   "execution_count": null,
   "metadata": {},
   "outputs": [],
   "source": []
  },
  {
   "cell_type": "code",
   "execution_count": 382,
   "metadata": {},
   "outputs": [
    {
     "name": "stdout",
     "output_type": "stream",
     "text": [
      "Creando tablero para jugador:\n",
      "[['.', '.', '.', '.', '.', '.', '.', '.', '.', '.'],\n",
      " ['.', '.', '.', '.', '.', '.', '.', '.', '.', '.'],\n",
      " ['.', '.', '.', '.', '.', '.', '.', '.', '.', '.'],\n",
      " ['.', '.', '.', '.', '.', '.', '.', '.', '.', '.'],\n",
      " ['.', '.', '.', '.', '.', '.', '.', '.', '.', '.'],\n",
      " ['.', '.', '.', '.', '.', '.', '.', '.', '.', '.'],\n",
      " ['.', '.', '.', '.', '.', '.', '.', '.', '.', '.'],\n",
      " ['.', '.', '.', '.', '.', '.', '.', '.', '.', '.'],\n",
      " ['.', '.', '.', '.', '.', '.', '.', '.', '.', '.'],\n",
      " ['.', '.', '.', '.', '.', '.', '.', '.', '.', '.']]\n",
      "\n",
      "Tu flota ha sido posicionada aleatoriamente de la siguiente manera:\n",
      "[['.', '.', '.', 'B', '.', '.', '.', '.', '.', '.'],\n",
      " ['.', 'B', 'B', 'B', 'B', '.', '.', '.', '.', '.'],\n",
      " ['B', '.', '.', '.', '.', '.', '.', 'B', '.', '.'],\n",
      " ['.', '.', '.', '.', '.', '.', '.', 'B', '.', '.'],\n",
      " ['.', '.', '.', '.', '.', '.', 'B', 'B', 'B', '.'],\n",
      " ['.', 'B', '.', 'B', '.', '.', '.', '.', '.', '.'],\n",
      " ['.', 'B', '.', 'B', '.', '.', '.', '.', '.', '.'],\n",
      " ['.', '.', '.', 'B', '.', 'B', '.', 'B', '.', '.'],\n",
      " ['.', '.', '.', '.', '.', 'B', '.', '.', 'B', '.'],\n",
      " ['.', '.', '.', '.', '.', '.', '.', '.', '.', '.']]\n",
      "\n",
      "\n",
      "Tablero del contrincante: Por favor introduce coordenadas para tu siguiente disparo\n",
      "[['.', '.', '.', '.', '.', '.', '.', '.', '.', '.'],\n",
      " ['.', '.', '.', '.', '.', '.', '.', '.', '.', '.'],\n",
      " ['.', '.', '.', '.', '.', '.', '.', '.', '.', '.'],\n",
      " ['.', '.', '.', '.', '.', '.', '.', '.', '.', '.'],\n",
      " ['.', '.', '.', '.', '.', '.', '.', '.', '.', '.'],\n",
      " ['.', '.', '.', '.', '.', '.', '.', '.', '.', '.'],\n",
      " ['.', '.', '.', '.', '.', '.', '.', '.', '.', '.'],\n",
      " ['.', '.', '.', '.', '.', '.', '.', '.', '.', '.'],\n",
      " ['.', '.', '.', '.', '.', '.', '.', '.', '.', '.'],\n",
      " ['.', '.', '.', '.', '.', '.', '.', '.', '.', '.']]\n",
      "\n",
      "Agua\n",
      "[['~', '.', '.', '.', '.', '.', '.', '.', '.', '.'],\n",
      " ['.', '.', '.', '.', '.', '.', '.', '.', '.', '.'],\n",
      " ['.', '.', '.', '.', '.', '.', '.', '.', '.', '.'],\n",
      " ['.', '.', '.', '.', '.', '.', '.', '.', '.', '.'],\n",
      " ['.', '.', '.', '.', '.', '.', '.', '.', '.', '.'],\n",
      " ['.', '.', '.', '.', '.', '.', '.', '.', '.', '.'],\n",
      " ['.', '.', '.', '.', '.', '.', '.', '.', '.', '.'],\n",
      " ['.', '.', '.', '.', '.', '.', '.', '.', '.', '.'],\n",
      " ['.', '.', '.', '.', '.', '.', '.', '.', '.', '.'],\n",
      " ['.', '.', '.', '.', '.', '.', '.', '.', '.', '.']]\n",
      "\n",
      "Turno ordenador:\n",
      "\n",
      "Agua\n",
      "[['.', '.', '.', 'B', '.', '.', '.', '.', '.', '.'],\n",
      " ['.', 'B', 'B', 'B', 'B', '.', '.', '.', '.', '.'],\n",
      " ['B', '.', '.', '.', '.', '.', '.', 'B', '.', '.'],\n",
      " ['.', '.', '.', '.', '.', '.', '.', 'B', '.', '.'],\n",
      " ['.', '.', '.', '.', '.', '.', 'B', 'B', 'B', '.'],\n",
      " ['.', 'B', '.', 'B', '.', '.', '.', '.', '.', '.'],\n",
      " ['.', 'B', '.', 'B', '.', '.', '.', '.', '.', '.'],\n",
      " ['.', '.', '.', 'B', '.', 'B', '.', 'B', '.', '.'],\n",
      " ['.', '.', '.', '.', '.', 'B', '.', '.', 'B', '.'],\n",
      " ['.', '.', '.', '.', '.', '.', '.', '.', '.', '~']]\n",
      "\n",
      "Tablero del contrincante: Por favor introduce coordenadas para tu siguiente disparo\n",
      "[['~', '.', '.', '.', '.', '.', '.', '.', '.', '.'],\n",
      " ['.', '.', '.', '.', '.', '.', '.', '.', '.', '.'],\n",
      " ['.', '.', '.', '.', '.', '.', '.', '.', '.', '.'],\n",
      " ['.', '.', '.', '.', '.', '.', '.', '.', '.', '.'],\n",
      " ['.', '.', '.', '.', '.', '.', '.', '.', '.', '.'],\n",
      " ['.', '.', '.', '.', '.', '.', '.', '.', '.', '.'],\n",
      " ['.', '.', '.', '.', '.', '.', '.', '.', '.', '.'],\n",
      " ['.', '.', '.', '.', '.', '.', '.', '.', '.', '.'],\n",
      " ['.', '.', '.', '.', '.', '.', '.', '.', '.', '.'],\n",
      " ['.', '.', '.', '.', '.', '.', '.', '.', '.', '.']]\n"
     ]
    },
    {
     "ename": "ValueError",
     "evalue": "invalid literal for int() with base 10: ''",
     "output_type": "error",
     "traceback": [
      "\u001b[1;31m---------------------------------------------------------------------------\u001b[0m",
      "\u001b[1;31mValueError\u001b[0m                                Traceback (most recent call last)",
      "Cell \u001b[1;32mIn[382], line 44\u001b[0m\n\u001b[0;32m     42\u001b[0m \u001b[38;5;66;03m# Turno del jugador\u001b[39;00m\n\u001b[0;32m     43\u001b[0m \u001b[38;5;28;01mwhile\u001b[39;00m \u001b[38;5;28;01mTrue\u001b[39;00m:\n\u001b[1;32m---> 44\u001b[0m     tirada \u001b[38;5;241m=\u001b[39m \u001b[43mjuega_usuario\u001b[49m\u001b[43m(\u001b[49m\u001b[43mtablero_ordenador\u001b[49m\u001b[43m)\u001b[49m\n\u001b[0;32m     45\u001b[0m     \u001b[38;5;28;01mif\u001b[39;00m tirada \u001b[38;5;241m==\u001b[39m \u001b[38;5;28;01mTrue\u001b[39;00m:\n\u001b[0;32m     46\u001b[0m          tablero_mis_disparos \u001b[38;5;241m=\u001b[39m actualizar_tablero_mis_disparos(tablero_ordenador)\n",
      "Cell \u001b[1;32mIn[366], line 6\u001b[0m, in \u001b[0;36mjuega_usuario\u001b[1;34m(tablero_ordenador)\u001b[0m\n\u001b[0;32m      4\u001b[0m \u001b[38;5;28;01mdef\u001b[39;00m \u001b[38;5;21mjuega_usuario\u001b[39m(tablero_ordenador):\n\u001b[1;32m----> 6\u001b[0m     coordenada_fila \u001b[38;5;241m=\u001b[39m \u001b[38;5;28;43mint\u001b[39;49m\u001b[43m(\u001b[49m\u001b[38;5;28;43minput\u001b[39;49m\u001b[43m(\u001b[49m\u001b[38;5;124;43m'\u001b[39;49m\u001b[38;5;124;43mIntroduce la primera coordenada\u001b[39;49m\u001b[38;5;124;43m'\u001b[39;49m\u001b[43m)\u001b[49m\u001b[43m)\u001b[49m\n\u001b[0;32m      7\u001b[0m     coordenada_columna \u001b[38;5;241m=\u001b[39m \u001b[38;5;28mint\u001b[39m(\u001b[38;5;28minput\u001b[39m(\u001b[38;5;124m'\u001b[39m\u001b[38;5;124mIntroduce ahora la segunda coordenada\u001b[39m\u001b[38;5;124m'\u001b[39m))\n\u001b[0;32m      8\u001b[0m     tablero \u001b[38;5;241m=\u001b[39m tablero_ordenador\n",
      "\u001b[1;31mValueError\u001b[0m: invalid literal for int() with base 10: ''"
     ]
    }
   ],
   "source": [
    "# FUNCION PRINCIPAL DEL JUEGO\n",
    "\n",
    "cerrar_juego = False\n",
    "while not cerrar_juego: #Bucle principal\n",
    "    opcion = input(\"Selecciona un opción (1-2):\\n1.Jugar\\n2.Salir del juego\")\n",
    "\n",
    "    if opcion == \"1\":\n",
    "        # Creo tablero\n",
    "\n",
    "        tablero_jugador = crear_tablero()\n",
    "        tablero_ordenador = crear_tablero()\n",
    "        tablero_mis_disparos = crear_tablero()\n",
    "\n",
    "        print(\"Creando tablero para jugador:\")\n",
    "        pprint.pprint(tablero_jugador)\n",
    "        print()\n",
    "        #pprint.pprint(tablero_mis_disparos)\n",
    "        time.sleep(0.5)\n",
    "\n",
    "        # Coloco aleatoriamente los barcos\n",
    "        posicionar_barcos_aleatoriamente(tablero_jugador) \n",
    "        print(\"Tu flota ha sido posicionada aleatoriamente de la siguiente manera:\")\n",
    "        pprint.pprint(tablero_jugador)\n",
    "        print()\n",
    "        time.sleep(0.5)\n",
    "\n",
    "        posicionar_barcos_aleatoriamente(tablero_ordenador)\n",
    "        #pprint.pprint(tablero_ordenador)\n",
    "\n",
    "        # Empieza el juego\n",
    "        barcos_hundidos_jugador = 0\n",
    "        barcos_hundidos_ordenador = 0\n",
    "        \n",
    "\n",
    "        while barcos_hundidos_jugador < total_barcos and barcos_hundidos_ordenador < total_barcos:\n",
    "            print()\n",
    "            print(\"Tablero del contrincante: Por favor introduce coordenadas para tu siguiente disparo\")\n",
    "            tablero_mis_disparos = actualizar_tablero_mis_disparos(tablero_ordenador)\n",
    "            pprint.pprint(tablero_mis_disparos)\n",
    "            time.sleep(0.5)\n",
    "\n",
    "            # Turno del jugador\n",
    "            while True:\n",
    "                tirada = juega_usuario(tablero_ordenador)\n",
    "                if tirada == True:\n",
    "                     tablero_mis_disparos = actualizar_tablero_mis_disparos(tablero_ordenador)\n",
    "                     pprint.pprint(tablero_mis_disparos)\n",
    "                     time.sleep(0.5)\n",
    "                     barcos_hundidos_jugador += 1\n",
    "                     print(f\"Has hundido: {barcos_hundidos_jugador}/{total_barcos}\")\n",
    "                \n",
    "                else:\n",
    "                     tablero_mis_disparos = actualizar_tablero_mis_disparos(tablero_ordenador)\n",
    "                     pprint.pprint(tablero_mis_disparos)\n",
    "                     time.sleep(0.5)\n",
    "                     break\n",
    "                \n",
    "            # Verificar si el jugador ha ganado\n",
    "            if barcos_hundidos_jugador == total_barcos:\n",
    "                    print(\"¡Enhorabuena! Has hundido todos los barcos\")\n",
    "                    break\n",
    "\n",
    "            #Turno del ordenador\n",
    "            while True:\n",
    "                tirada = juega_computer(tablero_jugador)\n",
    "                if tirada == True:\n",
    "                    tablero_disparos_ordenador = actualizar_tablero_disparos_ordenador(tablero_jugador)\n",
    "                    pprint.pprint(tablero_disparos_ordenador)\n",
    "                    time.sleep(0.5)\n",
    "                    barcos_hundidos_ordenador += 1\n",
    "                    print(f\"Barcos hundidos por el ordenador: {barcos_hundidos_ordenador}/{total_barcos}\")\n",
    "                \n",
    "                else:\n",
    "                    tablero_disparos_ordenador = actualizar_tablero_disparos_ordenador(tablero_jugador)\n",
    "                    pprint.pprint(tablero_disparos_ordenador)\n",
    "                    time.sleep(0.5)\n",
    "                    break\n",
    "        \n",
    "\n",
    "             # Verificar si el ordenador ha ganado\n",
    "            if barcos_hundidos_ordenador == total_barcos:\n",
    "                    print(\"Lo siento, has perdido :( El ordenador ha hundido todos tus barcos\")\n",
    "                    break\n",
    "\n",
    "    elif opcion == \"2\":\n",
    "        cerrar_juego = True\n",
    "        print(\"Saliendo del juego\")\n",
    "\n",
    "    else:\n",
    "        print(\"Opción no válida. Por favor selecciona 1 o 2\")\n",
    "\n",
    "\n",
    "\n",
    "\n",
    "        \n",
    "\n",
    "\n",
    "\n",
    "\n"
   ]
  },
  {
   "cell_type": "code",
   "execution_count": null,
   "metadata": {},
   "outputs": [],
   "source": []
  }
 ],
 "metadata": {
  "kernelspec": {
   "display_name": "Python 3",
   "language": "python",
   "name": "python3"
  },
  "language_info": {
   "codemirror_mode": {
    "name": "ipython",
    "version": 3
   },
   "file_extension": ".py",
   "mimetype": "text/x-python",
   "name": "python",
   "nbconvert_exporter": "python",
   "pygments_lexer": "ipython3",
   "version": "3.9.6"
  }
 },
 "nbformat": 4,
 "nbformat_minor": 2
}
